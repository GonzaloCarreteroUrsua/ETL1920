{
 "cells": [
  {
   "cell_type": "markdown",
   "metadata": {},
   "source": [
    "### Gonzalo Carretero Ursúa\n",
    "### ENERO/2021\n"
   ]
  },
  {
   "cell_type": "markdown",
   "metadata": {},
   "source": [
    "## Práctica: Examen 19-20"
   ]
  },
  {
   "cell_type": "markdown",
   "metadata": {},
   "source": [
    "## 1. Inicializar Contexto Spark"
   ]
  },
  {
   "cell_type": "code",
   "execution_count": 14,
   "metadata": {},
   "outputs": [],
   "source": [
    "# Inicio el contexto spark\n",
    "from pyspark import SparkContext\n",
    "sc = SparkContext.getOrCreate()\n",
    "\n",
    "from pyspark.sql import SparkSession\n",
    "\n",
    "# Inicio contesto Spark.SQL \n",
    "from pyspark.sql import SQLContext\n",
    "sqlContext = SQLContext(sc)\n",
    "\n",
    "\n",
    "from pyspark.sql import Row"
   ]
  },
  {
   "cell_type": "code",
   "execution_count": 15,
   "metadata": {},
   "outputs": [],
   "source": [
    "# Spark por defecto utiliza 1GB, lo cambiamos a 5\n",
    "from pyspark import SparkConf\n",
    "conf = SparkConf()\n",
    "conf.set(\"spark.driver.memory\", \"5g\")\n",
    "\n",
    "spark = SparkSession.builder \\\n",
    "            .config(conf=conf) \\\n",
    "            .master(\"local[*]\") \\\n",
    "            .getOrCreate()"
   ]
  },
  {
   "cell_type": "markdown",
   "metadata": {},
   "source": [
    "## 1.2 Carga y parseado"
   ]
  },
  {
   "cell_type": "code",
   "execution_count": 3,
   "metadata": {},
   "outputs": [
    {
     "data": {
      "text/plain": [
       "[['country_name',\n",
       "  'country_code',\n",
       "  'DT.AMT.BLAT.CD',\n",
       "  'DT.AMT.DLXF.CD',\n",
       "  'DT.AMT.DPNG.CD',\n",
       "  'DT.AMT.MLAT.CD',\n",
       "  'DT.AMT.OFFT.CD',\n",
       "  'DT.AMT.PBND.CD',\n",
       "  'DT.AMT.PCBK.CD',\n",
       "  'DT.AMT.PROP.CD',\n",
       "  'DT.AMT.PRVT.CD',\n",
       "  'DT.DIS.BLAT.CD',\n",
       "  'DT.DIS.DLXF.CD',\n",
       "  'DT.DIS.MLAT.CD',\n",
       "  'DT.DIS.OFFT.CD',\n",
       "  'DT.DIS.PCBK.CD',\n",
       "  'DT.DIS.PROP.CD',\n",
       "  'DT.DIS.PRVT.CD',\n",
       "  'DT.INT.BLAT.CD',\n",
       "  'DT.INT.DLXF.CD',\n",
       "  'DT.INT.DPNG.CD',\n",
       "  'DT.INT.MLAT.CD',\n",
       "  'DT.INT.OFFT.CD',\n",
       "  'DT.INT.PBND.CD',\n",
       "  'DT.INT.PCBK.CD',\n",
       "  'DT.INT.PROP.CD',\n",
       "  'DT.INT.PRVT.CD']]"
      ]
     },
     "execution_count": 3,
     "metadata": {},
     "output_type": "execute_result"
    }
   ],
   "source": [
    "indicadores_deuda = \"indicadores_deuda.csv\" \n",
    "indicadores_deuda = sc.textFile(indicadores_deuda)\n",
    "indicadores_deuda = indicadores_deuda.map(lambda x: x.split(\",\"))\n",
    "indicadores_deuda.take(1)"
   ]
  },
  {
   "cell_type": "code",
   "execution_count": 4,
   "metadata": {},
   "outputs": [
    {
     "name": "stdout",
     "output_type": "stream",
     "text": [
      "125\n"
     ]
    }
   ],
   "source": [
    "print(indicadores_deuda.count())"
   ]
  },
  {
   "cell_type": "code",
   "execution_count": 5,
   "metadata": {},
   "outputs": [],
   "source": [
    "# Segundo parseado"
   ]
  },
  {
   "cell_type": "code",
   "execution_count": 65,
   "metadata": {
    "scrolled": true
   },
   "outputs": [
    {
     "data": {
      "text/plain": [
       "['country_name,country_code,DT.AMT.BLAT.CD,DT.AMT.DLXF.CD,DT.AMT.DPNG.CD,DT.AMT.MLAT.CD,DT.AMT.OFFT.CD,DT.AMT.PBND.CD,DT.AMT.PCBK.CD,DT.AMT.PROP.CD,DT.AMT.PRVT.CD,DT.DIS.BLAT.CD,DT.DIS.DLXF.CD,DT.DIS.MLAT.CD,DT.DIS.OFFT.CD,DT.DIS.PCBK.CD,DT.DIS.PROP.CD,DT.DIS.PRVT.CD,DT.INT.BLAT.CD,DT.INT.DLXF.CD,DT.INT.DPNG.CD,DT.INT.MLAT.CD,DT.INT.OFFT.CD,DT.INT.PBND.CD,DT.INT.PCBK.CD,DT.INT.PROP.CD,DT.INT.PRVT.CD',\n",
       " 'Afghanistan,AFG,61739336.9,100847181.9,,39107845,100847181.9,,,,,49114729.4,72894453.7,23779724.3,72894453.7,,,,39903620.1,53239440.1,,13335820,53239440.1,,,,']"
      ]
     },
     "execution_count": 65,
     "metadata": {},
     "output_type": "execute_result"
    }
   ],
   "source": [
    "new = \"indicadores_deuda.csv\" \n",
    "new = sc.textFile(new)\n",
    "new.take(2)"
   ]
  },
  {
   "cell_type": "code",
   "execution_count": 66,
   "metadata": {},
   "outputs": [],
   "source": [
    "header = new.take(1)[0]\n",
    "raw_desarrollo = new \\\n",
    "    .filter(lambda line: line!=header)"
   ]
  },
  {
   "cell_type": "code",
   "execution_count": 67,
   "metadata": {},
   "outputs": [
    {
     "data": {
      "text/plain": [
       "[['Afghanistan',\n",
       "  'AFG',\n",
       "  '61739336.9',\n",
       "  '100847181.9',\n",
       "  '',\n",
       "  '39107845',\n",
       "  '100847181.9',\n",
       "  '',\n",
       "  '',\n",
       "  '',\n",
       "  '',\n",
       "  '49114729.4',\n",
       "  '72894453.7',\n",
       "  '23779724.3',\n",
       "  '72894453.7',\n",
       "  '',\n",
       "  '',\n",
       "  '',\n",
       "  '39903620.1',\n",
       "  '53239440.1',\n",
       "  '',\n",
       "  '13335820',\n",
       "  '53239440.1',\n",
       "  '',\n",
       "  '',\n",
       "  '',\n",
       "  '']]"
      ]
     },
     "execution_count": 67,
     "metadata": {},
     "output_type": "execute_result"
    }
   ],
   "source": [
    "new = raw_desarrollo.map(lambda x: x.split(\",\"))\n",
    "new.take(1)"
   ]
  },
  {
   "cell_type": "markdown",
   "metadata": {},
   "source": [
    "## Dataset 2"
   ]
  },
  {
   "cell_type": "code",
   "execution_count": 228,
   "metadata": {},
   "outputs": [
    {
     "data": {
      "text/plain": [
       "[['country_name',\n",
       "  'country_code',\n",
       "  'anho',\n",
       "  'GC.DOD.TOTL.CN',\n",
       "  'GC.DOD.TOTL.GD.ZS',\n",
       "  'SP.DYN.CBRT.IN']]"
      ]
     },
     "execution_count": 228,
     "metadata": {},
     "output_type": "execute_result"
    }
   ],
   "source": [
    "indicadores = \"indicadores_desarrollo.csv\" \n",
    "indicadores = sc.textFile(indicadores)\n",
    "indicadores = indicadores.map(lambda x: x.split(\",\"))\n",
    "indicadores.take(1)"
   ]
  },
  {
   "cell_type": "code",
   "execution_count": 18,
   "metadata": {},
   "outputs": [
    {
     "name": "stdout",
     "output_type": "stream",
     "text": [
      "135\n"
     ]
    }
   ],
   "source": [
    "print(indicadores.count())"
   ]
  },
  {
   "cell_type": "code",
   "execution_count": 19,
   "metadata": {},
   "outputs": [],
   "source": [
    "# Segundo parseado"
   ]
  },
  {
   "cell_type": "code",
   "execution_count": 30,
   "metadata": {},
   "outputs": [
    {
     "data": {
      "text/plain": [
       "['country_name,country_code,anho,GC.DOD.TOTL.CN,GC.DOD.TOTL.GD.ZS,SP.DYN.CBRT.IN',\n",
       " 'Albania,ALB,2014 [YR2014],1023040800000,73.3202469198429,12.259']"
      ]
     },
     "execution_count": 30,
     "metadata": {},
     "output_type": "execute_result"
    }
   ],
   "source": [
    "new2 = \"indicadores_desarrollo.csv\" \n",
    "new2 = sc.textFile(new2)\n",
    "new2.take(2)"
   ]
  },
  {
   "cell_type": "code",
   "execution_count": 31,
   "metadata": {},
   "outputs": [],
   "source": [
    "header = new2.take(1)[0]\n",
    "raw2_desarrollo = new2 \\\n",
    "    .filter(lambda line: line!=header)"
   ]
  },
  {
   "cell_type": "code",
   "execution_count": 32,
   "metadata": {},
   "outputs": [
    {
     "data": {
      "text/plain": [
       "[['Albania',\n",
       "  'ALB',\n",
       "  '2014 [YR2014]',\n",
       "  '1023040800000',\n",
       "  '73.3202469198429',\n",
       "  '12.259']]"
      ]
     },
     "execution_count": 32,
     "metadata": {},
     "output_type": "execute_result"
    }
   ],
   "source": [
    "new2 = raw2_desarrollo.map(lambda x: x.split(\",\"))\n",
    "new2.take(1)"
   ]
  },
  {
   "cell_type": "code",
   "execution_count": 33,
   "metadata": {},
   "outputs": [],
   "source": [
    "def parse_year(x):\n",
    "    sep = x.split()\n",
    "    return (sep[0])"
   ]
  },
  {
   "cell_type": "code",
   "execution_count": 34,
   "metadata": {},
   "outputs": [
    {
     "data": {
      "text/plain": [
       "[('Albania', 'ALB', '2014', '1023040800000', '73.3202469198429', '12.259')]"
      ]
     },
     "execution_count": 34,
     "metadata": {},
     "output_type": "execute_result"
    }
   ],
   "source": [
    "new2 = new2.map(lambda x: (x[0], x[1], parse_year(x[2]), x[3], x[4], x[5]))\n",
    "new2.take(1)"
   ]
  },
  {
   "cell_type": "markdown",
   "metadata": {},
   "source": [
    "## 2. Número de países distintos en cada dataset. ¿Coinciden?"
   ]
  },
  {
   "cell_type": "code",
   "execution_count": 30,
   "metadata": {},
   "outputs": [
    {
     "data": {
      "text/plain": [
       "124"
      ]
     },
     "execution_count": 30,
     "metadata": {},
     "output_type": "execute_result"
    }
   ],
   "source": [
    "new.map(lambda x: x[0]).distinct().count()"
   ]
  },
  {
   "cell_type": "code",
   "execution_count": 793,
   "metadata": {
    "scrolled": false
   },
   "outputs": [
    {
     "data": {
      "text/plain": [
       "['Albania',\n",
       " 'Algeria',\n",
       " 'Angola',\n",
       " 'Belize',\n",
       " 'Bhutan',\n",
       " 'Botswana',\n",
       " 'Brazil',\n",
       " 'Cabo Verde',\n",
       " 'Cambodia',\n",
       " 'China',\n",
       " 'Congo',\n",
       " 'Costa Rica',\n",
       " 'Ecuador',\n",
       " 'El Salvador',\n",
       " 'Eritrea',\n",
       " 'Ethiopia',\n",
       " 'Fiji',\n",
       " 'Gabon',\n",
       " 'Ghana',\n",
       " 'Guatemala',\n",
       " 'Guinea-Bissau',\n",
       " 'Honduras',\n",
       " 'India',\n",
       " 'Iran',\n",
       " 'Kazakhstan',\n",
       " 'Kenya',\n",
       " 'Kosovo',\n",
       " 'Kyrgyz Republic',\n",
       " 'Least developed countries: UN classification',\n",
       " 'Lebanon',\n",
       " 'Liberia',\n",
       " 'Macedonia',\n",
       " 'Malawi',\n",
       " 'Maldives',\n",
       " 'Mauritania',\n",
       " 'Mauritius',\n",
       " 'Mexico',\n",
       " 'Montenegro',\n",
       " 'Mozambique',\n",
       " 'Myanmar',\n",
       " 'Nepal',\n",
       " 'Nigeria',\n",
       " 'Pakistan',\n",
       " 'Paraguay',\n",
       " 'Peru',\n",
       " 'Philippines',\n",
       " 'Russian Federation',\n",
       " 'Solomon Islands',\n",
       " 'Somalia',\n",
       " 'South Africa',\n",
       " 'St. Vincent and the Grenadines',\n",
       " 'Syrian Arab Republic',\n",
       " 'Tanzania',\n",
       " 'Thailand',\n",
       " 'Timor-Leste',\n",
       " 'Togo',\n",
       " 'Tunisia',\n",
       " 'Turkmenistan',\n",
       " 'Ukraine',\n",
       " 'Uzbekistan',\n",
       " 'Venezuela',\n",
       " 'Vietnam',\n",
       " 'Zambia',\n",
       " 'Afghanistan',\n",
       " 'Armenia',\n",
       " 'Azerbaijan',\n",
       " 'Bangladesh',\n",
       " 'Belarus',\n",
       " 'Benin',\n",
       " 'Bolivia',\n",
       " 'Bosnia and Herzegovina',\n",
       " 'Bulgaria',\n",
       " 'Burkina Faso',\n",
       " 'Burundi',\n",
       " 'Cameroon',\n",
       " 'Central African Republic',\n",
       " 'Chad',\n",
       " 'Colombia',\n",
       " 'Comoros',\n",
       " 'Cote dIvoire',\n",
       " 'Djibouti',\n",
       " 'Dominica',\n",
       " 'Dominican Republic',\n",
       " 'Egypt',\n",
       " 'Eswatini',\n",
       " 'Gambia',\n",
       " 'Georgia',\n",
       " 'Grenada',\n",
       " 'Guinea',\n",
       " 'Guyana',\n",
       " 'Haiti',\n",
       " 'IDA only',\n",
       " 'Indonesia',\n",
       " 'Jamaica',\n",
       " 'Jordan',\n",
       " 'Lao PDR',\n",
       " 'Lesotho',\n",
       " 'Madagascar',\n",
       " 'Mali',\n",
       " 'Moldova',\n",
       " 'Mongolia',\n",
       " 'Morocco',\n",
       " 'Nicaragua',\n",
       " 'Niger',\n",
       " 'Papua New Guinea',\n",
       " 'Romania',\n",
       " 'Rwanda',\n",
       " 'Samoa',\n",
       " 'Sao Tome and Principe',\n",
       " 'Senegal',\n",
       " 'Serbia',\n",
       " 'Sierra Leone',\n",
       " 'South Asia',\n",
       " 'Sri Lanka',\n",
       " 'St. Lucia',\n",
       " 'Sudan',\n",
       " 'Tajikistan',\n",
       " 'Tonga',\n",
       " 'Turkey',\n",
       " 'Uganda',\n",
       " 'Vanuatu',\n",
       " 'Yemen',\n",
       " 'Zimbabwe']"
      ]
     },
     "execution_count": 793,
     "metadata": {},
     "output_type": "execute_result"
    }
   ],
   "source": [
    "new.map(lambda x: x[0]).distinct().collect()"
   ]
  },
  {
   "cell_type": "code",
   "execution_count": null,
   "metadata": {},
   "outputs": [],
   "source": [
    "# Segundo Dataset"
   ]
  },
  {
   "cell_type": "code",
   "execution_count": 794,
   "metadata": {},
   "outputs": [
    {
     "data": {
      "text/plain": [
       "52"
      ]
     },
     "execution_count": 794,
     "metadata": {},
     "output_type": "execute_result"
    }
   ],
   "source": [
    "new2.map(lambda x: x[0]).distinct().count()"
   ]
  },
  {
   "cell_type": "code",
   "execution_count": 795,
   "metadata": {
    "scrolled": true
   },
   "outputs": [
    {
     "data": {
      "text/plain": [
       "['Albania',\n",
       " 'Australia',\n",
       " 'Barbados',\n",
       " 'Belize',\n",
       " 'Bhutan',\n",
       " 'Botswana',\n",
       " 'Brazil',\n",
       " 'El Salvador',\n",
       " 'Guatemala',\n",
       " 'Hungary',\n",
       " 'Ireland',\n",
       " 'Kazakhstan',\n",
       " 'Kyrgyz Republic',\n",
       " 'Malawi',\n",
       " 'Palau',\n",
       " 'Peru',\n",
       " 'Philippines',\n",
       " 'Russian Federation',\n",
       " 'Solomon Islands',\n",
       " 'Switzerland',\n",
       " 'Thailand',\n",
       " 'Ukraine',\n",
       " 'United States',\n",
       " 'Uruguay',\n",
       " 'Zambia',\n",
       " 'country_name',\n",
       " 'Bahamas',\n",
       " 'Belarus',\n",
       " 'Colombia',\n",
       " 'Georgia',\n",
       " 'Indonesia',\n",
       " 'Jamaica',\n",
       " 'Japan',\n",
       " 'Jordan',\n",
       " 'Korea Rep',\n",
       " 'Malaysia',\n",
       " 'Micronesia',\n",
       " 'Moldova',\n",
       " 'Namibia',\n",
       " 'New Zealand',\n",
       " 'Papua New Guinea',\n",
       " 'San Marino',\n",
       " 'Seychelles',\n",
       " 'Singapore',\n",
       " 'Spain',\n",
       " 'Sri Lanka',\n",
       " 'St Kitts and Nevis',\n",
       " 'St Lucia',\n",
       " 'St Vincent and the Grenadines',\n",
       " 'Tonga',\n",
       " 'Turkey',\n",
       " 'United Kingdom']"
      ]
     },
     "execution_count": 795,
     "metadata": {},
     "output_type": "execute_result"
    }
   ],
   "source": [
    "new2.map(lambda x: x[0]).distinct().collect()"
   ]
  },
  {
   "cell_type": "markdown",
   "metadata": {},
   "source": [
    "## 3. Total de deuda contraida por cada país (total amount of debt (in USD) DT.AMT.MLAT.CD"
   ]
  },
  {
   "cell_type": "code",
   "execution_count": 235,
   "metadata": {},
   "outputs": [
    {
     "data": {
      "text/plain": [
       "[('country_name', 'DT.AMT.MLAT.CD'),\n",
       " ('Afghanistan', '39107845'),\n",
       " ('Albania', '182197616.7'),\n",
       " ('Algeria', '0'),\n",
       " ('Angola', '124688691.9'),\n",
       " ('Armenia', '94331207.1'),\n",
       " ('Azerbaijan', '513623656.5'),\n",
       " ('Bangladesh', '1039564682.7'),\n",
       " ('Belarus', '595438826'),\n",
       " ('Belize', '29683326.5'),\n",
       " ('Benin', '91631639.5'),\n",
       " ('Bhutan', '17390420.5'),\n",
       " ('Bolivia', '357721211.5'),\n",
       " ('Bosnia and Herzegovina', '290170946.5'),\n",
       " ('Botswana', '125652344.5'),\n",
       " ('Brazil', '2514318741.6'),\n",
       " ('Bulgaria', '228993019.8'),\n",
       " ('Burkina Faso', '119510893'),\n",
       " ('Burundi', '16115111.8'),\n",
       " ('Cabo Verde', '39970124.9'),\n",
       " ('Cambodia', '72307001.8'),\n",
       " ('Cameroon', '152095968.1'),\n",
       " ('Central African Republic', '2241813.8'),\n",
       " ('Chad', '95738709.5'),\n",
       " ('China', '2615723714.1'),\n",
       " ('Colombia', '1100907553.6'),\n",
       " ('Comoros', '2182053.1'),\n",
       " ('Congo', '143105462'),\n",
       " ('Congo', '18114469'),\n",
       " ('Costa Rica', '272808260.7'),\n",
       " ('Cote dIvoire', '84629406.5'),\n",
       " ('Djibouti', '34254909.2'),\n",
       " ('Dominica', '11130355.8'),\n",
       " ('Dominican Republic', '254728306.1'),\n",
       " ('Ecuador', '578894793.9'),\n",
       " ('Egypt', '2424904078'),\n",
       " ('El Salvador', '298939687.1'),\n",
       " ('Eritrea', '15482475.4'),\n",
       " ('Eswatini', '18130218.8'),\n",
       " ('Ethiopia', '171590722.7'),\n",
       " ('Fiji', '9082442.6'),\n",
       " ('Gabon', '62404132.3'),\n",
       " ('Gambia', '33231516.7'),\n",
       " ('Georgia', '144062401.5'),\n",
       " ('Ghana', '130202003.1'),\n",
       " ('Grenada', '13740888.8'),\n",
       " ('Guatemala', '339822253.6'),\n",
       " ('Guinea', '29819676.8'),\n",
       " ('Guinea-Bissau', '6713257.2'),\n",
       " ('Guyana', '34651806.5'),\n",
       " ('Haiti', '10087968.8'),\n",
       " ('Honduras', '148225048.7'),\n",
       " ('IDA only', '4884095623.3'),\n",
       " ('India', '4545609909.9'),\n",
       " ('Indonesia', '2469145824.7'),\n",
       " ('Iran', '78354060.8'),\n",
       " ('Jamaica', '174427648'),\n",
       " ('Jordan', '270498715.5'),\n",
       " ('Kazakhstan', '1079948889.7'),\n",
       " ('Kenya', '391340889.9'),\n",
       " ('Kosovo', '33590154.6'),\n",
       " ('Kyrgyz Republic', '75278037.2'),\n",
       " ('Lao PDR', '80684114.6'),\n",
       " ('Least developed countries: UN classification', '4084275524.2'),\n",
       " ('Lebanon', '167638089.7'),\n",
       " ('Lesotho', '32459403.7'),\n",
       " ('Liberia', '7383619.4'),\n",
       " ('Macedonia', '185952867.2'),\n",
       " ('Madagascar', '60669367.3'),\n",
       " ('Malawi', '35659831.4'),\n",
       " ('Maldives', '17896143.5'),\n",
       " ('Mali', '135472245.9'),\n",
       " ('Mauritania', '184408220.2'),\n",
       " ('Mauritius', '74568335.5'),\n",
       " ('Mexico', '864181883.5'),\n",
       " ('Moldova', '135842865.5'),\n",
       " ('Mongolia', '75937145.9'),\n",
       " ('Montenegro', '77948064.8'),\n",
       " ('Morocco', '1381649282.3'),\n",
       " ('Mozambique', '91225626.1'),\n",
       " ('Myanmar', '30569845.2'),\n",
       " ('Nepal', '163747512.9'),\n",
       " ('Nicaragua', '181115898'),\n",
       " ('Niger', '115132364.5'),\n",
       " ('Nigeria', '297246686.6'),\n",
       " ('Pakistan', '1578651453.9'),\n",
       " ('Papua New Guinea', '78345326'),\n",
       " ('Paraguay', '207662030.9'),\n",
       " ('Peru', '553634090'),\n",
       " ('Philippines', '739056427.3'),\n",
       " ('Romania', '1798305095.8'),\n",
       " ('Russian Federation', '141669500'),\n",
       " ('Rwanda', '31090382.5'),\n",
       " ('Samoa', '9987486.6'),\n",
       " ('Sao Tome and Principe', '2418947.6'),\n",
       " ('Senegal', '170437929.1'),\n",
       " ('Serbia', '715223963.7'),\n",
       " ('Sierra Leone', '24144262.8'),\n",
       " ('Solomon Islands', '3952828.9'),\n",
       " ('Somalia', '24683262.9'),\n",
       " ('South Africa', '346393763.9'),\n",
       " ('South Asia', '7851739929.5'),\n",
       " ('Sri Lanka', '449771961.1'),\n",
       " ('St. Lucia', '15019216.3'),\n",
       " ('St. Vincent and the Grenadines', '21615600.7'),\n",
       " ('Sudan', '217194878.8'),\n",
       " ('Syrian Arab Republic', '147903571.1'),\n",
       " ('Tajikistan', '59062982'),\n",
       " ('Tanzania', '141436637'),\n",
       " ('Thailand', '39071571.5'),\n",
       " ('Timor-Leste', '825000'),\n",
       " ('Togo', '44198800.7'),\n",
       " ('Tonga', '2791253.2'),\n",
       " ('Tunisia', '956604000.1'),\n",
       " ('Turkey', '2932698678'),\n",
       " ('Turkmenistan', '5831189.2'),\n",
       " ('Uganda', '145310077.2'),\n",
       " ('Ukraine', '1072472830.3'),\n",
       " ('Uzbekistan', '244240575.6'),\n",
       " ('Vanuatu', '2593419.3'),\n",
       " ('Venezuela', '509512564.6'),\n",
       " ('Vietnam', '947632152.5'),\n",
       " ('Yemen', '220743129.9'),\n",
       " ('Zambia', '53068964.9'),\n",
       " ('Zimbabwe', '26697905.1')]"
      ]
     },
     "execution_count": 235,
     "metadata": {},
     "output_type": "execute_result"
    }
   ],
   "source": [
    "indicadores_deuda.map(lambda x: (x[0], x[5])).collect()"
   ]
  },
  {
   "cell_type": "markdown",
   "metadata": {},
   "source": [
    "## 4. Media de los indicadores de deuda (tabla uno): DT.AMT.BLAT.CD, DT.DIS.BLAT.CD, DT.INT.BLAT.CD"
   ]
  },
  {
   "cell_type": "code",
   "execution_count": 57,
   "metadata": {},
   "outputs": [],
   "source": [
    "import statistics as stats "
   ]
  },
  {
   "cell_type": "code",
   "execution_count": 68,
   "metadata": {
    "scrolled": true
   },
   "outputs": [
    {
     "data": {
      "text/plain": [
       "[('Afghanistan', '61739336.9'),\n",
       " ('Albania', '54250280.6'),\n",
       " ('Algeria', '95188724.6'),\n",
       " ('Angola', '8473824016.3'),\n",
       " ('Armenia', '68968314.7')]"
      ]
     },
     "execution_count": 68,
     "metadata": {},
     "output_type": "execute_result"
    }
   ],
   "source": [
    "cuatro = new.map(lambda x: (x[0],x[2]))\n",
    "cuatro.take(5)"
   ]
  },
  {
   "cell_type": "code",
   "execution_count": 55,
   "metadata": {},
   "outputs": [
    {
     "name": "stdout",
     "output_type": "stream",
     "text": [
      "La media de la columna DT.AMT.BLAT.CD es 712619634.6598358\n"
     ]
    }
   ],
   "source": [
    "cuatrobueno = cuatro.filter(lambda x: not 'Timor-Leste'  in x[0])\\\n",
    "                    .filter(lambda x: not 'South Africa'  in x[0])\\\n",
    "                    .map(lambda x: (float(x[1]))).mean()\n",
    "\n",
    "print(\"La media de la columna DT.AMT.BLAT.CD es\" ,format(cuatrobueno))"
   ]
  },
  {
   "cell_type": "code",
   "execution_count": 57,
   "metadata": {
    "scrolled": true
   },
   "outputs": [
    {
     "data": {
      "text/plain": [
       "[('Afghanistan', '49114729.4'),\n",
       " ('Albania', '76050616.1'),\n",
       " ('Algeria', '10320772.2'),\n",
       " ('Angola', '8838256901.1'),\n",
       " ('Armenia', '174269846.7'),\n",
       " ('Azerbaijan', '84748079.6'),\n",
       " ('Bangladesh', '6141785637.5'),\n",
       " ('Belarus', '2265336386.7'),\n",
       " ('Belize', '3581448.7'),\n",
       " ('Benin', '334698287.3'),\n",
       " ('Bhutan', '95819437.4'),\n",
       " ('Bolivia', '554128686.3'),\n",
       " ('Bosnia and Herzegovina', '114375048.3'),\n",
       " ('Botswana', '1316332.2'),\n",
       " ('Brazil', '1179125278.8'),\n",
       " ('Bulgaria', ''),\n",
       " ('Burkina Faso', '90915960.2'),\n",
       " ('Burundi', '42339024.4'),\n",
       " ('Cabo Verde', '37178444.8'),\n",
       " ('Cambodia', '476683829.4'),\n",
       " ('Cameroon', '17090544247.5'),\n",
       " ('Central African Republic', '19477551.6'),\n",
       " ('Chad', '27987660.9'),\n",
       " ('China', ''),\n",
       " ('Colombia', '110671664.3'),\n",
       " ('Comoros', '8492726.4'),\n",
       " ('Congo', '103263632'),\n",
       " ('Congo', '150347308.2'),\n",
       " ('Costa Rica', '105969275.9'),\n",
       " ('Cote dIvoire', '526901028'),\n",
       " ('Djibouti', '85687012.1'),\n",
       " ('Dominica', '1092575'),\n",
       " ('Dominican Republic', '311336450.8'),\n",
       " ('Ecuador', '415778474.8'),\n",
       " ('Egypt', '7275502144.4'),\n",
       " ('El Salvador', '16377537.9'),\n",
       " ('Eritrea', '2678802.6'),\n",
       " ('Eswatini', '54462529.7'),\n",
       " ('Ethiopia', '1142444763.3'),\n",
       " ('Fiji', '3902886.7'),\n",
       " ('Gabon', '354919707'),\n",
       " ('Gambia', '21371548.3'),\n",
       " ('Georgia', '110677830.3'),\n",
       " ('Ghana', '1163413713.8'),\n",
       " ('Grenada', '23225424.8'),\n",
       " ('Guatemala', '56408511.8'),\n",
       " ('Guinea', '61782399.4'),\n",
       " ('Guinea-Bissau', ''),\n",
       " ('Guyana', '35584684.1'),\n",
       " ('Haiti', '1597000'),\n",
       " ('Honduras', '91251459.7'),\n",
       " ('IDA only', '16882903064.4'),\n",
       " ('India', '5588550763.4'),\n",
       " ('Indonesia', '2289402723.3'),\n",
       " ('Iran', ''),\n",
       " ('Jamaica', '112848973.6'),\n",
       " ('Jordan', '175484307.3'),\n",
       " ('Kazakhstan', '254112169.3'),\n",
       " ('Kenya', '1582905042'),\n",
       " ('Kosovo', '29959141.9'),\n",
       " ('Kyrgyz Republic', '153027414.4'),\n",
       " ('Lao PDR', '966004791.1'),\n",
       " ('Least developed countries: UN classification', '23333956388.4'),\n",
       " ('Lebanon', '129913451.7'),\n",
       " ('Lesotho', '13239867.2'),\n",
       " ('Liberia', '33122214.9'),\n",
       " ('Macedonia', '101396578.4'),\n",
       " ('Madagascar', '201529156.1'),\n",
       " ('Malawi', '26559943.3'),\n",
       " ('Maldives', '171056385.2'),\n",
       " ('Mali', '174563540.6'),\n",
       " ('Mauritania', '262893890.2'),\n",
       " ('Mauritius', '43276477.1'),\n",
       " ('Mexico', '10959800'),\n",
       " ('Moldova', '31959827.1'),\n",
       " ('Mongolia', '122040716.9'),\n",
       " ('Montenegro', '159653202.4'),\n",
       " ('Morocco', '381225311.4'),\n",
       " ('Mozambique', '428319700.7'),\n",
       " ('Myanmar', '704626596.3'),\n",
       " ('Nepal', '211256468.1'),\n",
       " ('Nicaragua', '91410630.2'),\n",
       " ('Niger', '150675402.1'),\n",
       " ('Nigeria', '197807330.6'),\n",
       " ('Pakistan', '3281555124'),\n",
       " ('Papua New Guinea', '272745704.4'),\n",
       " ('Paraguay', '132431540.4'),\n",
       " ('Peru', '123873090.2'),\n",
       " ('Philippines', '544148527.8'),\n",
       " ('Romania', '115066917.8'),\n",
       " ('Russian Federation', ''),\n",
       " ('Rwanda', '69086251.9'),\n",
       " ('Samoa', '3362614.4'),\n",
       " ('Sao Tome and Principe', '1918.9'),\n",
       " ('Senegal', '548648509.1'),\n",
       " ('Serbia', '703434606.4'),\n",
       " ('Sierra Leone', '32566565'),\n",
       " ('Solomon Islands', ''),\n",
       " ('Somalia', ''),\n",
       " ('South Africa', ''),\n",
       " ('South Asia', '17269114040.9'),\n",
       " ('Sri Lanka', '1729975495.9'),\n",
       " ('St. Lucia', '5713700.5'),\n",
       " ('St. Vincent and the Grenadines', '8155461.4'),\n",
       " ('Sudan', '376666146.5'),\n",
       " ('Syrian Arab Republic', '126505578'),\n",
       " ('Tajikistan', '4600834.4'),\n",
       " ('Tanzania', '150348676'),\n",
       " ('Thailand', '301616651.9'),\n",
       " ('Timor-Leste', '9869907'),\n",
       " ('Togo', '79978552.9'),\n",
       " ('Tonga', ''),\n",
       " ('Tunisia', '855186119.9'),\n",
       " ('Turkey', '415269075.4'),\n",
       " ('Turkmenistan', ''),\n",
       " ('Uganda', '538450864.4'),\n",
       " ('Ukraine', ''),\n",
       " ('Uzbekistan', '503520641.3'),\n",
       " ('Vanuatu', '9007166.6'),\n",
       " ('Venezuela', '65088096'),\n",
       " ('Vietnam', '4134438674.8'),\n",
       " ('Yemen', '91012892.5'),\n",
       " ('Zambia', '711130463.7'),\n",
       " ('Zimbabwe', '42332836.7')]"
      ]
     },
     "execution_count": 57,
     "metadata": {},
     "output_type": "execute_result"
    }
   ],
   "source": [
    "cuatro2 = new.map(lambda x: (x[0],x[11]))\n",
    "cuatro2.collect()"
   ]
  },
  {
   "cell_type": "code",
   "execution_count": 70,
   "metadata": {},
   "outputs": [
    {
     "name": "stdout",
     "output_type": "stream",
     "text": [
      "La media de la columna DT.DIS.BLAT.CD es 1223139290.3982308\n"
     ]
    }
   ],
   "source": [
    "cuatrobueno2 = cuatro2.filter(lambda x: not 'Bulgaria'  in x[0])\\\n",
    "                    .filter(lambda x: not 'China'  in x[0])\\\n",
    "                    .filter(lambda x: not 'Guinea-Bissau'  in x[0])\\\n",
    "                    .filter(lambda x: not 'Iran'  in x[0])\\\n",
    "                    .filter(lambda x: not 'Solomon Islands'  in x[0])\\\n",
    "                    .filter(lambda x: not 'Somalia'  in x[0])\\\n",
    "                    .filter(lambda x: not 'South Africa'  in x[0])\\\n",
    "                    .filter(lambda x: not 'Tonga'  in x[0])\\\n",
    "                    .filter(lambda x: not 'Turkmenistan'  in x[0])\\\n",
    "                    .filter(lambda x: not 'South Africa'  in x[0])\\\n",
    "                    .filter(lambda x: not 'Russian Federation'  in x[0])\\\n",
    "                    .filter(lambda x: not 'Tonga'  in x[0])\\\n",
    "                    .filter(lambda x: not 'Ukraine'  in x[0])\\\n",
    "                    .map(lambda x: (float(x[1]))).mean()\n",
    "\n",
    "print(\"La media de la columna DT.DIS.BLAT.CD es\" ,format(cuatrobueno2))"
   ]
  },
  {
   "cell_type": "code",
   "execution_count": 71,
   "metadata": {},
   "outputs": [
    {
     "data": {
      "text/plain": [
       "[('Afghanistan', '39903620.1'),\n",
       " ('Albania', '13847333.6'),\n",
       " ('Algeria', '7680627.6'),\n",
       " ('Angola', '1005053965.1'),\n",
       " ('Armenia', '24094832'),\n",
       " ('Azerbaijan', '10085950'),\n",
       " ('Bangladesh', '309079773.4'),\n",
       " ('Belarus', '630234914.9'),\n",
       " ('Belize', '3455608.4'),\n",
       " ('Benin', '13208408.6'),\n",
       " ('Bhutan', '184064524.8'),\n",
       " ('Bolivia', '32609012.4'),\n",
       " ('Bosnia and Herzegovina', '12605397.7'),\n",
       " ('Botswana', '884447.5'),\n",
       " ('Brazil', '333237826.9'),\n",
       " ('Bulgaria', '6012379.2'),\n",
       " ('Burkina Faso', '7382485.5'),\n",
       " ('Burundi', '520425.7'),\n",
       " ('Cabo Verde', '4216236.3'),\n",
       " ('Cambodia', '63836683.2'),\n",
       " ('Cameroon', '120877158.5'),\n",
       " ('Central African Republic', '860961'),\n",
       " ('Chad', '11882770.9'),\n",
       " ('China', '514898407.1'),\n",
       " ('Colombia', '122715407.2'),\n",
       " ('Comoros', '782831.5'),\n",
       " ('Congo', '62260653.1'),\n",
       " ('Congo', '19522109.8'),\n",
       " ('Costa Rica', '10709783.4'),\n",
       " ('Cote dIvoire', '73124399.9'),\n",
       " ('Djibouti', '44878881.9'),\n",
       " ('Dominica', '1693891.5'),\n",
       " ('Dominican Republic', '43812226.9'),\n",
       " ('Ecuador', '424453624.8'),\n",
       " ('Egypt', '462561367'),\n",
       " ('El Salvador', '10447436.1'),\n",
       " ('Eritrea', '1556112.1'),\n",
       " ('Eswatini', '5511319'),\n",
       " ('Ethiopia', '331367061.4'),\n",
       " ('Fiji', '6175526.5'),\n",
       " ('Gabon', '33263802.5'),\n",
       " ('Gambia', '2686367'),\n",
       " ('Georgia', '2435342284.4'),\n",
       " ('Ghana', '105007672'),\n",
       " ('Grenada', '3290655.4'),\n",
       " ('Guatemala', '8721281.3'),\n",
       " ('Guinea', '3723822.7'),\n",
       " ('Guinea-Bissau', '24800'),\n",
       " ('Guyana', '4885618.3'),\n",
       " ('Haiti', '10474000'),\n",
       " ('Honduras', '31044538.5'),\n",
       " ('IDA only', '2351375435.8'),\n",
       " ('India', '455965157.6'),\n",
       " ('Indonesia', '476814537.9'),\n",
       " ('Iran', '11333050.3'),\n",
       " ('Jamaica', '19718160.9'),\n",
       " ('Jordan', '62136103.7'),\n",
       " ('Kazakhstan', '49233512.4'),\n",
       " ('Kenya', '342056817'),\n",
       " ('Kosovo', '1704127.3'),\n",
       " ('Kyrgyz Republic', '43802082.9'),\n",
       " ('Lao PDR', '134508386.6'),\n",
       " ('Least developed countries: UN classification', '3029826352.3'),\n",
       " ('Lebanon', '16970779.5'),\n",
       " ('Lesotho', '2704841.4'),\n",
       " ('Liberia', '2971664.1'),\n",
       " ('Macedonia', '14127618.6'),\n",
       " ('Madagascar', '3611119.1'),\n",
       " ('Malawi', '7850229.4'),\n",
       " ('Maldives', '17789090.5'),\n",
       " ('Mali', '14961901.1'),\n",
       " ('Mauritania', '39896318.9'),\n",
       " ('Mauritius', '13702507.5'),\n",
       " ('Mexico', '59839853.4'),\n",
       " ('Moldova', '3292727.3'),\n",
       " ('Mongolia', '23580386.5'),\n",
       " ('Montenegro', '20505157.3'),\n",
       " ('Morocco', '147741097.6'),\n",
       " ('Mozambique', '89226721.5'),\n",
       " ('Myanmar', '217742156'),\n",
       " ('Nepal', '8120651.8'),\n",
       " ('Nicaragua', '9117269.5'),\n",
       " ('Niger', '20553332.6'),\n",
       " ('Nigeria', '69169718.3'),\n",
       " ('Pakistan', '719897921.2'),\n",
       " ('Papua New Guinea', '17727088.6'),\n",
       " ('Paraguay', '5158922.3'),\n",
       " ('Peru', '20175359.1'),\n",
       " ('Philippines', '104237992.9'),\n",
       " ('Romania', '8014478.4'),\n",
       " ('Russian Federation', '11030000'),\n",
       " ('Rwanda', '7310975.7'),\n",
       " ('Samoa', '2965245'),\n",
       " ('Sao Tome and Principe', '802594.2'),\n",
       " ('Senegal', '62856549.3'),\n",
       " ('Serbia', '156469393.1'),\n",
       " ('Sierra Leone', '2736397.7'),\n",
       " ('Solomon Islands', '284000'),\n",
       " ('Somalia', '925000'),\n",
       " ('South Africa', ''),\n",
       " ('South Asia', '2004917449.3'),\n",
       " ('Sri Lanka', '270096709.9'),\n",
       " ('St. Lucia', '1375737.7'),\n",
       " ('St. Vincent and the Grenadines', '1181883.8'),\n",
       " ('Sudan', '40572544.5'),\n",
       " ('Syrian Arab Republic', '9269996.5'),\n",
       " ('Tajikistan', '26333637.2'),\n",
       " ('Tanzania', '40941173.9'),\n",
       " ('Thailand', '59731471.1'),\n",
       " ('Timor-Leste', ''),\n",
       " ('Togo', '12931550.3'),\n",
       " ('Tonga', '1559371'),\n",
       " ('Tunisia', '87248174.8'),\n",
       " ('Turkey', '110410777.7'),\n",
       " ('Turkmenistan', '2505907.3'),\n",
       " ('Uganda', '73813147'),\n",
       " ('Ukraine', '19809816.8'),\n",
       " ('Uzbekistan', '64937572.1'),\n",
       " ('Vanuatu', '3160158.4'),\n",
       " ('Venezuela', '13163216.3'),\n",
       " ('Vietnam', '502741840.9'),\n",
       " ('Yemen', '25996299.6'),\n",
       " ('Zambia', '121800491.2'),\n",
       " ('Zimbabwe', '11769908.3')]"
      ]
     },
     "execution_count": 71,
     "metadata": {},
     "output_type": "execute_result"
    }
   ],
   "source": [
    "cuatro3 = new.map(lambda x: (x[0],x[18]))\n",
    "cuatro3.collect()"
   ]
  },
  {
   "cell_type": "code",
   "execution_count": 72,
   "metadata": {},
   "outputs": [
    {
     "name": "stdout",
     "output_type": "stream",
     "text": [
      "La media de la columna DT.INT.BLAT.CD es 164093285.60901642\n"
     ]
    }
   ],
   "source": [
    "cuatrobueno3 = cuatro3.filter(lambda x: not 'South Africa'  in x[0])\\\n",
    "                    .filter(lambda x: not 'Timor-Leste'  in x[0])\\\n",
    "                    .map(lambda x: (float(x[1]))).mean()\n",
    "\n",
    "print(\"La media de la columna DT.INT.BLAT.CD es\" ,format(cuatrobueno3))"
   ]
  },
  {
   "cell_type": "markdown",
   "metadata": {},
   "source": [
    "## 5. Los 20 países con DT.AMT.DLXF.CD más alto"
   ]
  },
  {
   "cell_type": "code",
   "execution_count": 93,
   "metadata": {
    "scrolled": false
   },
   "outputs": [
    {
     "data": {
      "text/plain": [
       "[('China', 96218620835.7),\n",
       " ('Brazil', 90041840304.1),\n",
       " ('Russian Federation', 66589761833.5),\n",
       " ('Turkey', 51555031005.8),\n",
       " ('South Asia', 48756295898.2),\n",
       " ('India', 31923507000.8),\n",
       " ('Indonesia', 30916112653.8),\n",
       " ('Kazakhstan', 27482093686.4),\n",
       " ('Mexico', 25218503927.0),\n",
       " ('Least developed countries: UN classification', 25197029299.4),\n",
       " ('IDA only', 20483289208.0),\n",
       " ('Romania', 14013783350.4),\n",
       " ('Colombia', 11985674438.7),\n",
       " ('Angola', 11067045628.1),\n",
       " ('Cameroon', 10404814960.2),\n",
       " ('Venezuela', 9878659207.2),\n",
       " ('Egypt', 9692114176.9),\n",
       " ('Lebanon', 9506919669.6),\n",
       " ('South Africa', 9474257551.9),\n",
       " ('Vietnam', 8873505909.2)]"
      ]
     },
     "execution_count": 93,
     "metadata": {},
     "output_type": "execute_result"
    }
   ],
   "source": [
    "cinco = new.map(lambda x: (x[0], (float(x[3]))))\\\n",
    "            .sortBy(lambda x: x[1], ascending = False)\\\n",
    "            .takeOrdered(20, lambda x: len(x))\n",
    "cinco"
   ]
  },
  {
   "cell_type": "markdown",
   "metadata": {},
   "source": [
    "## 6. País con los datos informados todos los años"
   ]
  },
  {
   "cell_type": "code",
   "execution_count": 902,
   "metadata": {},
   "outputs": [
    {
     "data": {
      "text/plain": [
       "[('Malawi', 'MWI', '2017', '2239858619962.69', '48.659564238322', '34.593')]"
      ]
     },
     "execution_count": 902,
     "metadata": {},
     "output_type": "execute_result"
    }
   ],
   "source": [
    "new2.filter(lambda x: \"2017\" in x[2]).collect()"
   ]
  },
  {
   "cell_type": "code",
   "execution_count": 907,
   "metadata": {},
   "outputs": [
    {
     "name": "stdout",
     "output_type": "stream",
     "text": [
      "El país con datos de todos los años es ['Malawi']\n"
     ]
    }
   ],
   "source": [
    "data = new2.filter(lambda x: \"2017\" in x[2]).map(lambda x: (x[0])).collect()\n",
    "print(\"El país con datos de todos los años es\" ,format(data))"
   ]
  },
  {
   "cell_type": "markdown",
   "metadata": {},
   "source": [
    "## 7. Media anual de los distintos indicadores de desarrollo"
   ]
  },
  {
   "cell_type": "code",
   "execution_count": 786,
   "metadata": {},
   "outputs": [
    {
     "data": {
      "text/plain": [
       "[['country_name',\n",
       "  'country_code',\n",
       "  'anho',\n",
       "  'GC.DOD.TOTL.CN',\n",
       "  'GC.DOD.TOTL.GD.ZS',\n",
       "  'SP.DYN.CBRT.IN']]"
      ]
     },
     "execution_count": 786,
     "metadata": {},
     "output_type": "execute_result"
    }
   ],
   "source": [
    "indicadores.take(1)"
   ]
  },
  {
   "cell_type": "code",
   "execution_count": 80,
   "metadata": {
    "scrolled": true
   },
   "outputs": [
    {
     "data": {
      "text/plain": [
       "[('2014', 1023040800000.0, 73.3202469198429, 12.259),\n",
       " ('2015', 1145500940000.0, 79.8644448747259, 12.197),\n",
       " ('2016', 1188814490000.0, 80.7355748396923, 12.08),\n",
       " ('2014', 674700000.0, 0.042207528166503, 13.2),\n",
       " ('2015', 762718000.0, 0.0469480198522591, 12.9)]"
      ]
     },
     "execution_count": 80,
     "metadata": {},
     "output_type": "execute_result"
    }
   ],
   "source": [
    "siete = new2.map(lambda x: (x[2], (float(x[3])), (float(x[4])), (float(x[5]))))\n",
    "siete.take(5)"
   ]
  },
  {
   "cell_type": "code",
   "execution_count": 610,
   "metadata": {},
   "outputs": [
    {
     "data": {
      "text/plain": [
       "[('2014',\n",
       "  [('2014', 1023040800000.0, 73.3202469198429, 12.259),\n",
       "   ('2014', 674700000.0, 0.042207528166503, 13.2),\n",
       "   ('2014', 5158420000.0, 47.2672793747079, 14.34),\n",
       "   ('2014', 12175704025.0, 129.629591844133, 10.916),\n",
       "   ('2014', 19781184418.0, 24.5487262642116, 12.5),\n",
       "   ('2014', 2609974000.0, 78.4811739351877, 22.067),\n",
       "   ('2014', 108370000000.0, 89.8206297688459, 17.965),\n",
       "   ('2014', 25447260000.0, 17.4453597097219, 26.87),\n",
       "   ('2014', 3378218222290.28, 58.4572609903155, 14.624),\n",
       "   ('2014', 607904432000000.0, 79.683056954816, 15.725),\n",
       "   ('2014', 11486057983.75, 50.8390120114637, 18.881),\n",
       "   ('2014', 10313000000.0, 33.1350946694041, 14.165),\n",
       "   ('2014', 105781000000.0, 23.2970727082014, 25.992),\n",
       "   ('2014', 31995288000000.0, 97.8622513198668, 9.5),\n",
       "   ('2014', 2898383597986100.0, 27.4216121994064, 19.537),\n",
       "   ('2014', 236301000000.0, 121.293079734391, 14.4),\n",
       "   ('2014', 2041693750000.0, 132.427374548077, 16.814),\n",
       "   ('2014', 999119100000000.0, 194.42805268197, 8.0),\n",
       "   ('2014', 20331400000.0, 78.822879004163, 25.214),\n",
       "   ('2014', 5017790536000.0, 12.6469696266918, 23.1),\n",
       "   ('2014', 570473174969116.0, 38.3878017121372, 8.6),\n",
       "   ('2014', 215931300000.0, 53.8893270176244, 27.7),\n",
       "   ('2014', 1044137600000.0, 40.6328150545127, 36.629),\n",
       "   ('2014', 582828241000.0, 52.6758487332831, 17.071),\n",
       "   ('2014', 74676687.0, 23.3897380060743, 23.365),\n",
       "   ('2014', 27799600000.0, 20.8265355816666, 10.759),\n",
       "   ('2014', 32020735194.5286, 23.0757673265434, 30.192),\n",
       "   ('2014', 107122329000.0, 44.2486034234919, 12.68),\n",
       "   ('2014', 52870917.0, 21.7444249774828, 13.7),\n",
       "   ('2014', 15365100000.0, 26.8946120019845, 28.344),\n",
       "   ('2014', 110266771987.379, 19.3436563312777, 18.827),\n",
       "   ('2014', 5735242000000.0, 45.3946271793812, 22.935),\n",
       "   ('2014', 8851724551740.4, 11.1964258617083, 13.3),\n",
       "   ('2014', 11784224932.45, 68.83635968787, 17.0),\n",
       "   ('2014', 397391200000.0, 99.6097986729595, 9.8),\n",
       "   ('2014', 858979631.76183, 9.93518947308786, 33.766),\n",
       "   ('2014', 1158183701791.16, 112.209923460474, 9.2),\n",
       "   ('2014', 7390899000000.0, 71.332798378903, 16.849),\n",
       "   ('2014', 1482430000.0, 59.902696455775, 12.6),\n",
       "   ('2014', 2728520000.0, 64.8182294939526, 12.502),\n",
       "   ('2014', 1350810000.0, 68.7494592407486, 15.011),\n",
       "   ('2014', 136764130115.49, 21.0497677631665, 10.4),\n",
       "   ('2014', 5235051790000.0, 39.5686522173607, 10.999),\n",
       "   ('2014', 378478931.0, 47.04523691734, 25.756),\n",
       "   ('2014', 645312129880.536, 31.5638493902928, 16.94),\n",
       "   ('2014', 1010314500000.0, 63.6653191884884, 10.8),\n",
       "   ('2014', 1977649000000.0, 106.213063195636, 12.0),\n",
       "   ('2014', 16886105000000.0, 96.3722706936402, 12.5),\n",
       "   ('2014', 590186383919.879, 44.357961352818, 14.192),\n",
       "   ('2014', 74164628000.0, 44.3960266359538, 38.645)]),\n",
       " ('2015',\n",
       "  [('2015', 1145500940000.0, 79.8644448747259, 12.197),\n",
       "   ('2015', 762718000.0, 0.0469480198522591, 12.9),\n",
       "   ('2015', 5655150000.0, 48.1195170307089, 14.224),\n",
       "   ('2015', 13365027241.0, 141.413895259761, 10.806),\n",
       "   ('2015', 33804450453.3197, 37.5981780556757, 12.5),\n",
       "   ('2015', 120783002000.0, 91.4048311527287, 17.783),\n",
       "   ('2015', 26159246269.7519, 17.9091592446388, 26.44),\n",
       "   ('2015', 4049407884511.51, 67.5375540277116, 14.472),\n",
       "   ('2015', 536470607000000.0, 66.6678191158853, 15.515),\n",
       "   ('2015', 12018755226.09, 51.2789283475126, 18.734),\n",
       "   ('2015', 13109400000.0, 38.6309120377192, 14.078),\n",
       "   ('2015', 112211600000.0, 22.9881410888278, 25.627),\n",
       "   ('2015', 33299616000000.0, 95.7292531617753, 9.4),\n",
       "   ('2015', 3493530747415080.0, 30.309126137804, 19.165),\n",
       "   ('2015', 232665000000.0, 88.5218484996919, 13.9),\n",
       "   ('2015', 2068759180000.0, 124.659191868551, 16.633),\n",
       "   ('2015', 1048211200000000.0, 197.284422677265, 8.0),\n",
       "   ('2015', 7893874198000.0, 19.307916061599, 22.71),\n",
       "   ('2015', 621640877442310.0, 39.7437106767763, 8.6),\n",
       "   ('2015', 311917800000.0, 72.4565575830671, 27.4),\n",
       "   ('2015', 1259062000000.0, 39.5422371324465, 35.839),\n",
       "   ('2015', 630540000000.0, 53.5744782448738, 17.024),\n",
       "   ('2015', 94767029.0, 29.9431402956919, 23.213),\n",
       "   ('2015', 31001100000.0, 21.2695199753568, 10.609),\n",
       "   ('2015', 110530258000.0, 43.4966699722957, 13.27),\n",
       "   ('2015', 177991821.0, 63.4832359106215, 13.7),\n",
       "   ('2015', 17966880000.0, 29.8753777260463, 27.993),\n",
       "   ('2015', 136468511203.603, 22.5785735658227, 18.544),\n",
       "   ('2015', 11250670224079.3, 13.5396406242327, 13.3),\n",
       "   ('2015', 728308709.33, 53.0334747928348, 8.2),\n",
       "   ('2015', 11616521354.0, 63.3403933800613, 17.0),\n",
       "   ('2015', 437506000000.0, 103.32083975193, 9.7),\n",
       "   ('2015', 697458792.772927, 7.63191825458985, 33.556),\n",
       "   ('2015', 1128716991847.77, 104.744568142593, 9.0),\n",
       "   ('2015', 8503200000000.0, 77.6503941209344, 16.609),\n",
       "   ('2015', 136659738536.39, 20.8877443663494, 10.5),\n",
       "   ('2015', 4847864050000.0, 35.2739604076527, 10.836),\n",
       "   ('2015', 434560045.0, 51.3603646141118, 25.354),\n",
       "   ('2015', 683048720324.166, 29.2069977270683, 16.718),\n",
       "   ('2015', 1397127900000.0, 70.2588376218982, 10.7),\n",
       "   ('2015', 2015806000000.0, 105.159904345358, 11.9),\n",
       "   ('2015', 17645011000000.0, 96.8479213792285, 12.4),\n",
       "   ('2015', 745197458875.336, 51.1864800205919, 14.134),\n",
       "   ('2015', 90603650000.0, 49.4072998798677, 37.95)]),\n",
       " ('2016',\n",
       "  [('2016', 1188814490000.0, 80.7355748396923, 12.08),\n",
       "   ('2016', 907555000.0, 0.054648482520169, 12.9),\n",
       "   ('2016', 6138814000.0, 51.4207431481606, 14.131),\n",
       "   ('2016', 37941765765.7758, 39.960153098796, 12.4),\n",
       "   ('2016', 160562057000.0, 107.650111182046, 17.625),\n",
       "   ('2016', 25986219844.0603, 15.235498922983, 25.943),\n",
       "   ('2016', 4602865624505.08, 73.4436742456179, 14.307),\n",
       "   ('2016', 495859665995031.0, 57.4056493415041, 15.308),\n",
       "   ('2016', 12595426766.26, 52.1463391829925, 18.587),\n",
       "   ('2016', 15102700000.0, 42.1439334747182, 13.925),\n",
       "   ('2016', 115404600000.0, 22.115072091399, 25.267),\n",
       "   ('2016', 34527404000000.0, 96.1864484805675, 9.7),\n",
       "   ('2016', 3889949813238980.0, 31.366190714778, 18.79),\n",
       "   ('2016', 230468000000.0, 84.8295535010247, 13.4),\n",
       "   ('2016', 2159937054848.86, 122.6662661827, 16.46),\n",
       "   ('2016', 1052768100000000.0, 196.416942668695, 7.8),\n",
       "   ('2016', 20979900000.0, 75.3868896615264, 23.396),\n",
       "   ('2016', 7876721720000.0, 16.7692758640144, 22.52),\n",
       "   ('2016', 662636705078292.0, 40.3607233268095, 7.9),\n",
       "   ('2016', 288054200000.0, 60.4735108680683, 26.0),\n",
       "   ('2016', 2151680949747.66, 55.1578705122511, 35.163),\n",
       "   ('2016', 648474726000.0, 51.8905148283825, 16.957),\n",
       "   ('2016', 84368040.0, 25.3917802774832, 23.069),\n",
       "   ('2016', 51276800000.0, 31.8856692606523, 10.445),\n",
       "   ('2016', 114479465000.0, 42.4222699429698, 12.65),\n",
       "   ('2016', 202718309.0, 67.5444910397514, 12.0),\n",
       "   ('2016', 150150489072.363, 23.1832496081886, 18.323),\n",
       "   ('2016', 12193222000000.0, 14.1758237480639, 12.9),\n",
       "   ('2016', 760475441.97, 53.7742498918116, 7.9),\n",
       "   ('2016', 480707296111.6, 109.39795310629, 9.4),\n",
       "   ('2016', 686326347.948075, 7.01769496957772, 33.255),\n",
       "   ('2016', 1164774959488.17, 104.572915274022, 8.8),\n",
       "   ('2016', 130547305679.14, 19.734923096329, 10.5),\n",
       "   ('2016', 460835620.0, 51.8083889825745, 24.977),\n",
       "   ('2016', 831394045789.176, 31.8721809053214, 16.494),\n",
       "   ('2016', 1712921200000.0, 71.8095454494004, 10.3),\n",
       "   ('2016', 2294247000000.0, 114.972244759278, 11.8),\n",
       "   ('2016', 18523318000000.0, 99.0171145300394, 12.2),\n",
       "   ('2016', 805482973891.575, 50.6849558753255, 14.057)]),\n",
       " ('2017', [('2017', 2239858619962.69, 48.659564238322, 34.593)])]"
      ]
     },
     "execution_count": 610,
     "metadata": {},
     "output_type": "execute_result"
    }
   ],
   "source": [
    "# Este apartado no sirve para nada en el ejercicio, simplemente lo utilizo yo para hacer alguna comprobación\n",
    "siete.groupBy(lambda x: x[0]).mapValues(list).collect() "
   ]
  },
  {
   "cell_type": "code",
   "execution_count": 689,
   "metadata": {},
   "outputs": [],
   "source": [
    "bb = siete.map(lambda x: (int(x[0]), x[1]))"
   ]
  },
  {
   "cell_type": "code",
   "execution_count": 690,
   "metadata": {
    "scrolled": false
   },
   "outputs": [
    {
     "data": {
      "text/plain": [
       "[(2014, 5172137936647662.0),\n",
       " (2016, 6193739040374572.0),\n",
       " (2015, 5800273772299710.0),\n",
       " (2017, 2239858619962.69)]"
      ]
     },
     "execution_count": 690,
     "metadata": {},
     "output_type": "execute_result"
    }
   ],
   "source": [
    "bb2 = bb.map(lambda x: (x[0],x[1])).reduceByKey(lambda a,b: a + b)\n",
    "bb2.collect()"
   ]
  },
  {
   "cell_type": "code",
   "execution_count": 691,
   "metadata": {},
   "outputs": [
    {
     "data": {
      "text/plain": [
       "[(2014, 50), (2016, 39), (2015, 44), (2017, 1)]"
      ]
     },
     "execution_count": 691,
     "metadata": {},
     "output_type": "execute_result"
    }
   ],
   "source": [
    "bb6 = bb.map(lambda x: (x[0],1)).reduceByKey(lambda a,b: a + b)\n",
    "bb6.collect()"
   ]
  },
  {
   "cell_type": "code",
   "execution_count": 692,
   "metadata": {},
   "outputs": [],
   "source": [
    "media = bb2.join(bb6).map(lambda x:(x[0],(x[1][0]/x[1][1])))"
   ]
  },
  {
   "cell_type": "code",
   "execution_count": 693,
   "metadata": {
    "scrolled": true
   },
   "outputs": [
    {
     "data": {
      "text/plain": [
       "[(2014, 103442758732953.23),\n",
       " (2016, 158813821548065.94),\n",
       " (2015, 131824403915902.5),\n",
       " (2017, 2239858619962.69)]"
      ]
     },
     "execution_count": 693,
     "metadata": {},
     "output_type": "execute_result"
    }
   ],
   "source": [
    "media.collect()"
   ]
  },
  {
   "cell_type": "code",
   "execution_count": null,
   "metadata": {},
   "outputs": [],
   "source": [
    "# Segundo elemento"
   ]
  },
  {
   "cell_type": "code",
   "execution_count": 713,
   "metadata": {},
   "outputs": [
    {
     "data": {
      "text/plain": [
       "[(2014, 56.843914344384395),\n",
       " (2016, 58.796949624008356),\n",
       " (2015, 58.36559834488034),\n",
       " (2017, 48.659564238322)]"
      ]
     },
     "execution_count": 713,
     "metadata": {},
     "output_type": "execute_result"
    }
   ],
   "source": [
    "yy = siete.map(lambda x: (int(x[0]), x[2]))\n",
    "yy2 = yy.map(lambda x: (x[0],x[1])).reduceByKey(lambda a,b: a + b)\n",
    "yy6 = yy.map(lambda x: (x[0],1)).reduceByKey(lambda a,b: a + b)\n",
    "media2 = yy2.join(yy6).map(lambda x:(x[0],(x[1][0]/x[1][1])))\n",
    "media2.collect()"
   ]
  },
  {
   "cell_type": "code",
   "execution_count": null,
   "metadata": {},
   "outputs": [],
   "source": [
    "# Tercer elemento"
   ]
  },
  {
   "cell_type": "code",
   "execution_count": 82,
   "metadata": {},
   "outputs": [
    {
     "data": {
      "text/plain": [
       "[(2014, 17.582620000000006),\n",
       " (2016, 16.144333333333332),\n",
       " (2015, 16.798477272727272),\n",
       " (2017, 34.593)]"
      ]
     },
     "execution_count": 82,
     "metadata": {},
     "output_type": "execute_result"
    }
   ],
   "source": [
    "zz = siete.map(lambda x: (int(x[0]), x[3]))\n",
    "zz2 = zz.map(lambda x: (x[0],x[1])).reduceByKey(lambda a,b: a + b)\n",
    "zz6 = zz.map(lambda x: (x[0],1)).reduceByKey(lambda a,b: a + b)\n",
    "media3 = zz2.join(zz6).map(lambda x:(x[0],(x[1][0]/x[1][1])))\n",
    "media3.collect()"
   ]
  },
  {
   "cell_type": "markdown",
   "metadata": {},
   "source": [
    "## 8. Podrías decirme el total de deuda acumulada DT.AMT.MLAT.CD por los 10 países con un valor en media menor de SP.DYN.CBRT.IN"
   ]
  },
  {
   "cell_type": "code",
   "execution_count": 35,
   "metadata": {
    "scrolled": true
   },
   "outputs": [
    {
     "data": {
      "text/plain": [
       "[('Albania', 12.178666666666667), ('Australia', 13.0)]"
      ]
     },
     "execution_count": 35,
     "metadata": {},
     "output_type": "execute_result"
    }
   ],
   "source": [
    "ocho = new2.map(lambda x: (x[0], float(x[5])))\n",
    "suma = ocho.map(lambda x: (x[0],x[1])).reduceByKey(lambda a,b: a + b)\n",
    "conteo = ocho.map(lambda x: (x[0],1)).reduceByKey(lambda a,b: a + b)\n",
    "mediaocho = suma.join(conteo).map(lambda x:(x[0],(x[1][0]/x[1][1])))\n",
    "mediaocho.take(2)"
   ]
  },
  {
   "cell_type": "code",
   "execution_count": 36,
   "metadata": {
    "scrolled": false
   },
   "outputs": [
    {
     "data": {
      "text/plain": [
       "[('country_name', 'DT.AMT.MLAT.CD'),\n",
       " ('Afghanistan', '39107845'),\n",
       " ('Albania', '182197616.7'),\n",
       " ('Algeria', '0'),\n",
       " ('Angola', '124688691.9')]"
      ]
     },
     "execution_count": 36,
     "metadata": {},
     "output_type": "execute_result"
    }
   ],
   "source": [
    "eight = new.map(lambda x: (x[0], x[5]))\n",
    "eight.take(5)"
   ]
  },
  {
   "cell_type": "code",
   "execution_count": 37,
   "metadata": {
    "scrolled": false
   },
   "outputs": [
    {
     "data": {
      "text/plain": [
       "[('Belize', ('29683326.5', 22.067)),\n",
       " ('Botswana', ('125652344.5', 26.417666666666666)),\n",
       " ('Guatemala', ('339822253.6', 25.628666666666664)),\n",
       " ('Russian Federation', ('141669500', 13.166666666666666)),\n",
       " ('Ukraine', ('1072472830.3', 10.6)),\n",
       " ('Zambia', ('53068964.9', 38.2975)),\n",
       " ('Belarus', ('595438826', 12.466666666666667)),\n",
       " ('Georgia', ('144062401.5', 14.056)),\n",
       " ('Jamaica', ('174427648', 16.63566666666667)),\n",
       " ('Jordan', ('270498715.5', 24.305)),\n",
       " ('Moldova', ('135842865.5', 10.604333333333335)),\n",
       " ('Papua New Guinea', ('78345326', 28.1685)),\n",
       " ('Turkey', ('2932698678', 16.717333333333332)),\n",
       " ('Albania', ('182197616.7', 12.178666666666667)),\n",
       " ('Bhutan', ('17390420.5', 17.791)),\n",
       " ('Brazil', ('2514318741.6', 14.467666666666666)),\n",
       " ('El Salvador', ('298939687.1', 18.733999999999998)),\n",
       " ('Kazakhstan', ('1079948889.7', 22.776666666666667)),\n",
       " ('Kyrgyz Republic', ('75278037.2', 27.03333333333333)),\n",
       " ('Malawi', ('35659831.4', 35.556)),\n",
       " ('Peru', ('553634090', 18.564666666666668)),\n",
       " ('Philippines', ('739056427.3', 22.935)),\n",
       " ('Solomon Islands', ('3952828.9', 33.525666666666666)),\n",
       " ('Thailand', ('39071571.5', 10.9175)),\n",
       " ('Colombia', ('1100907553.6', 15.516)),\n",
       " ('Indonesia', ('2469145824.7', 19.163999999999998)),\n",
       " ('Sri Lanka', ('449771961.1', 16.729)),\n",
       " ('Tonga', ('2791253.2', 25.362333333333336))]"
      ]
     },
     "execution_count": 37,
     "metadata": {},
     "output_type": "execute_result"
    }
   ],
   "source": [
    "eight.join(mediaocho).map(lambda x:(x[0], x[1])).collect()"
   ]
  },
  {
   "cell_type": "code",
   "execution_count": 38,
   "metadata": {},
   "outputs": [],
   "source": [
    "# El join con Rdd no me ha captado bien las keys, utilizaré los Rdds creados previamente y hago el join con \n",
    "# el contexto Spark SQL"
   ]
  },
  {
   "cell_type": "code",
   "execution_count": 39,
   "metadata": {},
   "outputs": [],
   "source": [
    "data = mediaocho.map(lambda x: Row(\n",
    "Country=str(x[0]),\n",
    "SP_DYN_CBRT_IN=x[1]))"
   ]
  },
  {
   "cell_type": "code",
   "execution_count": 40,
   "metadata": {},
   "outputs": [
    {
     "name": "stdout",
     "output_type": "stream",
     "text": [
      "+------------------+------------------+\n",
      "|           Country|    SP_DYN_CBRT_IN|\n",
      "+------------------+------------------+\n",
      "|           Albania|12.178666666666667|\n",
      "|         Australia|              13.0|\n",
      "|          Barbados|            10.861|\n",
      "|            Belize|            22.067|\n",
      "|            Bhutan|            17.791|\n",
      "|          Botswana|26.417666666666666|\n",
      "|            Brazil|14.467666666666666|\n",
      "|       El Salvador|18.733999999999998|\n",
      "|         Guatemala|25.628666666666664|\n",
      "|           Hungary| 9.533333333333333|\n",
      "|           Ireland|              13.9|\n",
      "|        Kazakhstan|22.776666666666667|\n",
      "|   Kyrgyz Republic| 27.03333333333333|\n",
      "|            Malawi|            35.556|\n",
      "|             Palau|13.133333333333333|\n",
      "|              Peru|18.564666666666668|\n",
      "|       Philippines|            22.935|\n",
      "|Russian Federation|13.166666666666666|\n",
      "|   Solomon Islands|33.525666666666666|\n",
      "|       Switzerland|10.466666666666667|\n",
      "+------------------+------------------+\n",
      "only showing top 20 rows\n",
      "\n"
     ]
    }
   ],
   "source": [
    "ochosql = sqlContext.createDataFrame(data)\n",
    "ochosql.show()"
   ]
  },
  {
   "cell_type": "code",
   "execution_count": 134,
   "metadata": {
    "scrolled": false
   },
   "outputs": [
    {
     "name": "stdout",
     "output_type": "stream",
     "text": [
      "+--------------------+--------------+\n",
      "|             Country|         Deuda|\n",
      "+--------------------+--------------+\n",
      "|        country_name|DT.AMT.MLAT.CD|\n",
      "|         Afghanistan|      39107845|\n",
      "|             Albania|   182197616.7|\n",
      "|             Algeria|             0|\n",
      "|              Angola|   124688691.9|\n",
      "|             Armenia|    94331207.1|\n",
      "|          Azerbaijan|   513623656.5|\n",
      "|          Bangladesh|  1039564682.7|\n",
      "|             Belarus|     595438826|\n",
      "|              Belize|    29683326.5|\n",
      "|               Benin|    91631639.5|\n",
      "|              Bhutan|    17390420.5|\n",
      "|             Bolivia|   357721211.5|\n",
      "|Bosnia and Herzeg...|   290170946.5|\n",
      "|            Botswana|   125652344.5|\n",
      "|              Brazil|  2514318741.6|\n",
      "|            Bulgaria|   228993019.8|\n",
      "|        Burkina Faso|     119510893|\n",
      "|             Burundi|    16115111.8|\n",
      "|          Cabo Verde|    39970124.9|\n",
      "+--------------------+--------------+\n",
      "only showing top 20 rows\n",
      "\n"
     ]
    }
   ],
   "source": [
    "data2 = eight.map(lambda x: Row(\n",
    "Country=str(x[0]),\n",
    "Deuda=x[1]))\n",
    "deudasql = sqlContext.createDataFrame(data2)\n",
    "deudasql.show()"
   ]
  },
  {
   "cell_type": "code",
   "execution_count": 895,
   "metadata": {},
   "outputs": [
    {
     "name": "stdout",
     "output_type": "stream",
     "text": [
      "+--------------------+------------+--------------+\n",
      "|             Country|       Deuda|SP_DYN_CBRT_IN|\n",
      "+--------------------+------------+--------------+\n",
      "|             Algeria|           0|          null|\n",
      "|              Rwanda|  31090382.5|          null|\n",
      "|            Maldives|  17896143.5|          null|\n",
      "|            Dominica|  11130355.8|          null|\n",
      "|              Guyana|  34651806.5|          null|\n",
      "|Least developed c...|4084275524.2|          null|\n",
      "|             Senegal| 170437929.1|          null|\n",
      "|          Cabo Verde|  39970124.9|          null|\n",
      "|                Chad|  95738709.5|          null|\n",
      "|            Paraguay| 207662030.9|          null|\n",
      "|            Djibouti|  34254909.2|          null|\n",
      "|          South Asia|7851739929.5|          null|\n",
      "|                Fiji|   9082442.6|          null|\n",
      "|               Yemen| 220743129.9|          null|\n",
      "|             Comoros|   2182053.1|          null|\n",
      "|         Afghanistan|    39107845|          null|\n",
      "|            Cambodia|  72307001.8|          null|\n",
      "|               Sudan| 217194878.8|          null|\n",
      "|             Eritrea|  15482475.4|          null|\n",
      "|              Kosovo|  33590154.6|          null|\n",
      "+--------------------+------------+--------------+\n",
      "only showing top 20 rows\n",
      "\n"
     ]
    }
   ],
   "source": [
    "big = deudasql.join(ochosql, 'Country','left')\n",
    "bigorder = big.sort('SP_DYN_CBRT_IN')\n",
    "bigorder.show()"
   ]
  },
  {
   "cell_type": "code",
   "execution_count": 908,
   "metadata": {},
   "outputs": [
    {
     "data": {
      "text/plain": [
       "[Row(Country='Ukraine', Deuda='1072472830.3', SP_DYN_CBRT_IN=10.6),\n",
       " Row(Country='Moldova', Deuda='135842865.5', SP_DYN_CBRT_IN=10.604333333333335),\n",
       " Row(Country='Thailand', Deuda='39071571.5', SP_DYN_CBRT_IN=10.9175),\n",
       " Row(Country='Albania', Deuda='182197616.7', SP_DYN_CBRT_IN=12.178666666666667),\n",
       " Row(Country='Belarus', Deuda='595438826', SP_DYN_CBRT_IN=12.466666666666667),\n",
       " Row(Country='Russian Federation', Deuda='141669500', SP_DYN_CBRT_IN=13.166666666666666),\n",
       " Row(Country='Georgia', Deuda='144062401.5', SP_DYN_CBRT_IN=14.056),\n",
       " Row(Country='Brazil', Deuda='2514318741.6', SP_DYN_CBRT_IN=14.467666666666666),\n",
       " Row(Country='Colombia', Deuda='1100907553.6', SP_DYN_CBRT_IN=15.516),\n",
       " Row(Country='Jamaica', Deuda='174427648', SP_DYN_CBRT_IN=16.63566666666667)]"
      ]
     },
     "execution_count": 908,
     "metadata": {},
     "output_type": "execute_result"
    }
   ],
   "source": [
    "bigorder.dropna().take(10) # Listado de los países con SP_DYN_CBRT_IN medio menor (que tengamos datos)"
   ]
  },
  {
   "cell_type": "markdown",
   "metadata": {},
   "source": [
    "## 9. ¿Hay alguna relación entre los nacimientos y el indicador DT.AMT.DLXF.CD? ¿Cómo podrías demostrarlo?"
   ]
  },
  {
   "cell_type": "markdown",
   "metadata": {},
   "source": [
    "\"Birth rate, crude (per 1,000 people)\",SP.DYN.CBRT.IN\n",
    "\n",
    "\"Principal repayments on external debt, long-term (AMT, current US$)\",DT.AMT.DLXF.CD"
   ]
  },
  {
   "cell_type": "code",
   "execution_count": 22,
   "metadata": {
    "scrolled": true
   },
   "outputs": [
    {
     "data": {
      "text/plain": [
       "[('Afghanistan', 100847181.9),\n",
       " ('Albania', 790248675.2),\n",
       " ('Algeria', 171185188.1),\n",
       " ('Angola', 11067045628.1),\n",
       " ('Armenia', 845630723.8)]"
      ]
     },
     "execution_count": 22,
     "metadata": {},
     "output_type": "execute_result"
    }
   ],
   "source": [
    "Debt = new.map(lambda x: (x[0],(float(x[3]))))\n",
    "Debt.take(5)"
   ]
  },
  {
   "cell_type": "code",
   "execution_count": 26,
   "metadata": {},
   "outputs": [],
   "source": [
    "\n",
    "from pyspark.sql import Row"
   ]
  },
  {
   "cell_type": "code",
   "execution_count": 27,
   "metadata": {
    "scrolled": true
   },
   "outputs": [],
   "source": [
    "De = Debt.map(lambda x: Row(\n",
    "Country=str(x[0]),\n",
    "AMT=x[1]))\n",
    "debtsql = sqlContext.createDataFrame(De)"
   ]
  },
  {
   "cell_type": "code",
   "execution_count": null,
   "metadata": {},
   "outputs": [],
   "source": [
    "# Utilizaré nacimiento medio de cada país, esto esta calculado en el apartado anterior asi que utilizare el df\n",
    "# de nacimientos medio creado en el ejercicio anterior"
   ]
  },
  {
   "cell_type": "code",
   "execution_count": 41,
   "metadata": {
    "scrolled": true
   },
   "outputs": [
    {
     "name": "stdout",
     "output_type": "stream",
     "text": [
      "+------------------+----------------+------------------+\n",
      "|           Country|             AMT|    SP_DYN_CBRT_IN|\n",
      "+------------------+----------------+------------------+\n",
      "|           Ukraine|  8.1489956256E9|              10.6|\n",
      "|           Moldova|    7.69232867E8|10.604333333333335|\n",
      "|          Thailand|  5.9147069983E9|           10.9175|\n",
      "|           Albania|   7.902486752E8|12.178666666666667|\n",
      "|           Belarus|  4.6400378842E9|12.466666666666667|\n",
      "|Russian Federation|6.65897618335E10|13.166666666666666|\n",
      "|           Georgia|  1.5521169536E9|            14.056|\n",
      "|            Brazil|9.00418403041E10|14.467666666666666|\n",
      "|          Colombia|1.19856744387E10|            15.516|\n",
      "|           Jamaica|   5.595974314E8| 16.63566666666667|\n",
      "|            Turkey|5.15550310058E10|16.717333333333332|\n",
      "|         Sri Lanka|  5.7614892559E9|            16.729|\n",
      "|            Bhutan|   2.132585369E8|            17.791|\n",
      "|              Peru|  5.8812599747E9|18.564666666666668|\n",
      "|       El Salvador|  2.5745484823E9|18.733999999999998|\n",
      "|         Indonesia|3.09161126538E10|19.163999999999998|\n",
      "|            Belize|   1.056099249E8|            22.067|\n",
      "|        Kazakhstan|2.74820936864E10|22.776666666666667|\n",
      "|       Philippines|  6.4791709177E9|            22.935|\n",
      "|            Jordan|  1.9903434792E9|            24.305|\n",
      "+------------------+----------------+------------------+\n",
      "only showing top 20 rows\n",
      "\n"
     ]
    }
   ],
   "source": [
    "nine = debtsql.join(ochosql, 'Country','left')\n",
    "bignine = nine.sort('SP_DYN_CBRT_IN').dropna()\n",
    "bignine.show()"
   ]
  },
  {
   "cell_type": "code",
   "execution_count": 10,
   "metadata": {},
   "outputs": [],
   "source": [
    "import pandas as pd \n",
    "import numpy as np\n",
    "import matplotlib.pyplot as plt"
   ]
  },
  {
   "cell_type": "code",
   "execution_count": 42,
   "metadata": {},
   "outputs": [
    {
     "data": {
      "text/html": [
       "<div>\n",
       "<style scoped>\n",
       "    .dataframe tbody tr th:only-of-type {\n",
       "        vertical-align: middle;\n",
       "    }\n",
       "\n",
       "    .dataframe tbody tr th {\n",
       "        vertical-align: top;\n",
       "    }\n",
       "\n",
       "    .dataframe thead th {\n",
       "        text-align: right;\n",
       "    }\n",
       "</style>\n",
       "<table border=\"1\" class=\"dataframe\">\n",
       "  <thead>\n",
       "    <tr style=\"text-align: right;\">\n",
       "      <th></th>\n",
       "      <th>AMT</th>\n",
       "      <th>SP_DYN_CBRT_IN</th>\n",
       "    </tr>\n",
       "  </thead>\n",
       "  <tbody>\n",
       "    <tr>\n",
       "      <th>AMT</th>\n",
       "      <td>1.000000</td>\n",
       "      <td>-0.299791</td>\n",
       "    </tr>\n",
       "    <tr>\n",
       "      <th>SP_DYN_CBRT_IN</th>\n",
       "      <td>-0.299791</td>\n",
       "      <td>1.000000</td>\n",
       "    </tr>\n",
       "  </tbody>\n",
       "</table>\n",
       "</div>"
      ],
      "text/plain": [
       "                     AMT  SP_DYN_CBRT_IN\n",
       "AMT             1.000000       -0.299791\n",
       "SP_DYN_CBRT_IN -0.299791        1.000000"
      ]
     },
     "execution_count": 42,
     "metadata": {},
     "output_type": "execute_result"
    }
   ],
   "source": [
    "bignine = bignine.toPandas()\n",
    "bignine.corr()"
   ]
  },
  {
   "cell_type": "code",
   "execution_count": 204,
   "metadata": {
    "scrolled": true
   },
   "outputs": [
    {
     "data": {
      "text/plain": [
       "<matplotlib.image.AxesImage at 0x7faf42e6aa90>"
      ]
     },
     "execution_count": 204,
     "metadata": {},
     "output_type": "execute_result"
    },
    {
     "data": {
      "image/png": "[encoded data removed]",
      "text/plain": [
       "<Figure size 288x288 with 1 Axes>"
      ]
     },
     "metadata": {
      "needs_background": "light"
     },
     "output_type": "display_data"
    }
   ],
   "source": [
    "plt.matshow(bignine.corr())"
   ]
  },
  {
   "cell_type": "code",
   "execution_count": 45,
   "metadata": {
    "scrolled": true
   },
   "outputs": [
    {
     "data": {
      "text/plain": [
       "Text(0, 0.5, 'SP_DYN_CBRT_IN')"
      ]
     },
     "execution_count": 45,
     "metadata": {},
     "output_type": "execute_result"
    },
    {
     "data": {
      "image/png": "[encoded data removed]",
      "text/plain": [
       "<Figure size 432x288 with 1 Axes>"
      ]
     },
     "metadata": {
      "needs_background": "light"
     },
     "output_type": "display_data"
    }
   ],
   "source": [
    "plt.scatter(bignine['AMT'],bignine['SP_DYN_CBRT_IN'])\n",
    "plt.xlabel('AMT')\n",
    "plt.ylabel('SP_DYN_CBRT_IN')"
   ]
  },
  {
   "cell_type": "markdown",
   "metadata": {},
   "source": [
    "Finalizamos el contexto Spark"
   ]
  },
  {
   "cell_type": "code",
   "execution_count": 5,
   "metadata": {},
   "outputs": [],
   "source": [
    "sc.stop()"
   ]
  }
 ],
 "metadata": {
  "kernelspec": {
   "display_name": "Python 3",
   "language": "python",
   "name": "python3"
  },
  "language_info": {
   "codemirror_mode": {
    "name": "ipython",
    "version": 3
   },
   "file_extension": ".py",
   "mimetype": "text/x-python",
   "name": "python",
   "nbconvert_exporter": "python",
   "pygments_lexer": "ipython3",
   "version": "3.8.3"
  }
 },
 "nbformat": 4,
 "nbformat_minor": 4
}
